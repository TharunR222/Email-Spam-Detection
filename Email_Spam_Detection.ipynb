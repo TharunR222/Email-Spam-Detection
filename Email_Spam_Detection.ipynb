{
  "cells": [
    {
      "cell_type": "markdown",
      "metadata": {
        "id": "mNOB4qxFI1hz"
      },
      "source": [
        "# Introduction\n",
        "This notebook is about data science solutions for separating ham and spam mails.\n",
        "\n",
        "### Workflow stages\n",
        "The solution workflow goes through eight stages described in the Data Science Solutions book.\n",
        "\n",
        "1. Problem Statement.\n",
        "2. Data Gathering & Initial Preprocessing.\n",
        "3. Analyze, identify patterns, and explore the data.\n",
        "4. Wrangling, preparation, cleansing the data.\n",
        "5. Model Selection, Training and Optimisation.\n",
        "6. Model Evaluation.\n",
        "7. Model Testing.\n",
        "8. Model Exportation for Production.\n",
        "\n",
        "The workflow indicates general sequence of how each stage may follow the other. However there are use cases with exceptions.\n",
        "\n",
        "\n",
        "# Problem Statement\n",
        "The problem is to find out which is spam mail and which is ham mail."
      ]
    },
    {
      "cell_type": "code",
      "execution_count": null,
      "metadata": {
        "colab": {
          "base_uri": "https://localhost:8080/"
        },
        "id": "YYLbS4WwI1im",
        "outputId": "43358bfa-5bca-4b66-ddcf-657f32868ad2"
      },
      "outputs": [
        {
          "name": "stdout",
          "output_type": "stream",
          "text": [
            "Looking in indexes: https://pypi.org/simple, https://us-python.pkg.dev/colab-wheels/public/simple/\n",
            "Collecting langdetect\n",
            "  Downloading langdetect-1.0.9.tar.gz (981 kB)\n",
            "\u001b[2K     \u001b[90m━━━━━━━━━━━━━━━━━━━━━━━━━━━━━━━━━━━━━━━\u001b[0m \u001b[32m981.5/981.5 KB\u001b[0m \u001b[31m7.7 MB/s\u001b[0m eta \u001b[36m0:00:00\u001b[0m\n",
            "\u001b[?25h  Preparing metadata (setup.py) ... \u001b[?25l\u001b[?25hdone\n",
            "Requirement already satisfied: six in /usr/local/lib/python3.9/dist-packages (from langdetect) (1.15.0)\n",
            "Building wheels for collected packages: langdetect\n",
            "  Building wheel for langdetect (setup.py) ... \u001b[?25l\u001b[?25hdone\n",
            "  Created wheel for langdetect: filename=langdetect-1.0.9-py3-none-any.whl size=993242 sha256=4186b0fea06992a8a3e435e2a82cf45bd95ae1571f7f567fae1901a63fd44989\n",
            "  Stored in directory: /root/.cache/pip/wheels/d1/c1/d9/7e068de779d863bc8f8fc9467d85e25cfe47fa5051fff1a1bb\n",
            "Successfully built langdetect\n",
            "Installing collected packages: langdetect\n",
            "Successfully installed langdetect-1.0.9\n",
            "Looking in indexes: https://pypi.org/simple, https://us-python.pkg.dev/colab-wheels/public/simple/\n",
            "Collecting googletrans==3.1.0a0\n",
            "  Downloading googletrans-3.1.0a0.tar.gz (19 kB)\n",
            "  Preparing metadata (setup.py) ... \u001b[?25l\u001b[?25hdone\n",
            "Collecting httpx==0.13.3\n",
            "  Downloading httpx-0.13.3-py3-none-any.whl (55 kB)\n",
            "\u001b[2K     \u001b[90m━━━━━━━━━━━━━━━━━━━━━━━━━━━━━━━━━━━━━━━━\u001b[0m \u001b[32m55.1/55.1 KB\u001b[0m \u001b[31m2.3 MB/s\u001b[0m eta \u001b[36m0:00:00\u001b[0m\n",
            "\u001b[?25hRequirement already satisfied: certifi in /usr/local/lib/python3.9/dist-packages (from httpx==0.13.3->googletrans==3.1.0a0) (2022.12.7)\n",
            "Collecting chardet==3.*\n",
            "  Downloading chardet-3.0.4-py2.py3-none-any.whl (133 kB)\n",
            "\u001b[2K     \u001b[90m━━━━━━━━━━━━━━━━━━━━━━━━━━━━━━━━━━━━━━━\u001b[0m \u001b[32m133.4/133.4 KB\u001b[0m \u001b[31m4.8 MB/s\u001b[0m eta \u001b[36m0:00:00\u001b[0m\n",
            "\u001b[?25hCollecting hstspreload\n",
            "  Downloading hstspreload-2023.1.1-py3-none-any.whl (1.5 MB)\n",
            "\u001b[2K     \u001b[90m━━━━━━━━━━━━━━━━━━━━━━━━━━━━━━━━━━━━━━━━\u001b[0m \u001b[32m1.5/1.5 MB\u001b[0m \u001b[31m27.6 MB/s\u001b[0m eta \u001b[36m0:00:00\u001b[0m\n",
            "\u001b[?25hCollecting httpcore==0.9.*\n",
            "  Downloading httpcore-0.9.1-py3-none-any.whl (42 kB)\n",
            "\u001b[2K     \u001b[90m━━━━━━━━━━━━━━━━━━━━━━━━━━━━━━━━━━━━━━━━\u001b[0m \u001b[32m42.6/42.6 KB\u001b[0m \u001b[31m4.4 MB/s\u001b[0m eta \u001b[36m0:00:00\u001b[0m\n",
            "\u001b[?25hCollecting rfc3986<2,>=1.3\n",
            "  Downloading rfc3986-1.5.0-py2.py3-none-any.whl (31 kB)\n",
            "Requirement already satisfied: idna==2.* in /usr/local/lib/python3.9/dist-packages (from httpx==0.13.3->googletrans==3.1.0a0) (2.10)\n",
            "Collecting sniffio\n",
            "  Downloading sniffio-1.3.0-py3-none-any.whl (10 kB)\n",
            "Collecting h2==3.*\n",
            "  Downloading h2-3.2.0-py2.py3-none-any.whl (65 kB)\n",
            "\u001b[2K     \u001b[90m━━━━━━━━━━━━━━━━━━━━━━━━━━━━━━━━━━━━━━━━\u001b[0m \u001b[32m65.0/65.0 KB\u001b[0m \u001b[31m5.7 MB/s\u001b[0m eta \u001b[36m0:00:00\u001b[0m\n",
            "\u001b[?25hCollecting h11<0.10,>=0.8\n",
            "  Downloading h11-0.9.0-py2.py3-none-any.whl (53 kB)\n",
            "\u001b[2K     \u001b[90m━━━━━━━━━━━━━━━━━━━━━━━━━━━━━━━━━━━━━━━━\u001b[0m \u001b[32m53.6/53.6 KB\u001b[0m \u001b[31m4.8 MB/s\u001b[0m eta \u001b[36m0:00:00\u001b[0m\n",
            "\u001b[?25hCollecting hpack<4,>=3.0\n",
            "  Downloading hpack-3.0.0-py2.py3-none-any.whl (38 kB)\n",
            "Collecting hyperframe<6,>=5.2.0\n",
            "  Downloading hyperframe-5.2.0-py2.py3-none-any.whl (12 kB)\n",
            "Building wheels for collected packages: googletrans\n",
            "  Building wheel for googletrans (setup.py) ... \u001b[?25l\u001b[?25hdone\n",
            "  Created wheel for googletrans: filename=googletrans-3.1.0a0-py3-none-any.whl size=16368 sha256=55afc4cdc96ceb2a86b7228152bbb672a8262d0f025832de7ed97f108d0e1917\n",
            "  Stored in directory: /root/.cache/pip/wheels/ae/e1/6c/5137bc3f35aa130deea71575e165cc4f4f0680a88f3d90a636\n",
            "Successfully built googletrans\n",
            "Installing collected packages: rfc3986, hyperframe, hpack, h11, chardet, sniffio, hstspreload, h2, httpcore, httpx, googletrans\n",
            "  Attempting uninstall: chardet\n",
            "    Found existing installation: chardet 4.0.0\n",
            "    Uninstalling chardet-4.0.0:\n",
            "      Successfully uninstalled chardet-4.0.0\n",
            "Successfully installed chardet-3.0.4 googletrans-3.1.0a0 h11-0.9.0 h2-3.2.0 hpack-3.0.0 hstspreload-2023.1.1 httpcore-0.9.1 httpx-0.13.3 hyperframe-5.2.0 rfc3986-1.5.0 sniffio-1.3.0\n",
            "Looking in indexes: https://pypi.org/simple, https://us-python.pkg.dev/colab-wheels/public/simple/\n",
            "\u001b[31mERROR: Could not find a version that satisfies the requirement collections (from versions: none)\u001b[0m\u001b[31m\n",
            "\u001b[0m\u001b[31mERROR: No matching distribution found for collections\u001b[0m\u001b[31m\n",
            "\u001b[0mLooking in indexes: https://pypi.org/simple, https://us-python.pkg.dev/colab-wheels/public/simple/\n",
            "Requirement already satisfied: wordcloud in /usr/local/lib/python3.9/dist-packages (1.8.2.2)\n",
            "Requirement already satisfied: matplotlib in /usr/local/lib/python3.9/dist-packages (from wordcloud) (3.5.3)\n",
            "Requirement already satisfied: numpy>=1.6.1 in /usr/local/lib/python3.9/dist-packages (from wordcloud) (1.22.4)\n",
            "Requirement already satisfied: pillow in /usr/local/lib/python3.9/dist-packages (from wordcloud) (8.4.0)\n",
            "Requirement already satisfied: kiwisolver>=1.0.1 in /usr/local/lib/python3.9/dist-packages (from matplotlib->wordcloud) (1.4.4)\n",
            "Requirement already satisfied: python-dateutil>=2.7 in /usr/local/lib/python3.9/dist-packages (from matplotlib->wordcloud) (2.8.2)\n",
            "Requirement already satisfied: packaging>=20.0 in /usr/local/lib/python3.9/dist-packages (from matplotlib->wordcloud) (23.0)\n",
            "Requirement already satisfied: fonttools>=4.22.0 in /usr/local/lib/python3.9/dist-packages (from matplotlib->wordcloud) (4.39.0)\n",
            "Requirement already satisfied: pyparsing>=2.2.1 in /usr/local/lib/python3.9/dist-packages (from matplotlib->wordcloud) (3.0.9)\n",
            "Requirement already satisfied: cycler>=0.10 in /usr/local/lib/python3.9/dist-packages (from matplotlib->wordcloud) (0.11.0)\n",
            "Requirement already satisfied: six>=1.5 in /usr/local/lib/python3.9/dist-packages (from python-dateutil>=2.7->matplotlib->wordcloud) (1.15.0)\n",
            "Looking in indexes: https://pypi.org/simple, https://us-python.pkg.dev/colab-wheels/public/simple/\n",
            "Collecting contractions\n",
            "  Downloading contractions-0.1.73-py2.py3-none-any.whl (8.7 kB)\n",
            "Collecting textsearch>=0.0.21\n",
            "  Downloading textsearch-0.0.24-py2.py3-none-any.whl (7.6 kB)\n",
            "Collecting pyahocorasick\n",
            "  Downloading pyahocorasick-2.0.0-cp39-cp39-manylinux_2_5_x86_64.manylinux1_x86_64.whl (103 kB)\n",
            "\u001b[2K     \u001b[90m━━━━━━━━━━━━━━━━━━━━━━━━━━━━━━━━━━━━━━━\u001b[0m \u001b[32m103.2/103.2 KB\u001b[0m \u001b[31m4.2 MB/s\u001b[0m eta \u001b[36m0:00:00\u001b[0m\n",
            "\u001b[?25hCollecting anyascii\n",
            "  Downloading anyascii-0.3.1-py3-none-any.whl (287 kB)\n",
            "\u001b[2K     \u001b[90m━━━━━━━━━━━━━━━━━━━━━━━━━━━━━━━━━━━━━━\u001b[0m \u001b[32m287.5/287.5 KB\u001b[0m \u001b[31m12.0 MB/s\u001b[0m eta \u001b[36m0:00:00\u001b[0m\n",
            "\u001b[?25hInstalling collected packages: pyahocorasick, anyascii, textsearch, contractions\n",
            "Successfully installed anyascii-0.3.1 contractions-0.1.73 pyahocorasick-2.0.0 textsearch-0.0.24\n",
            "Looking in indexes: https://pypi.org/simple, https://us-python.pkg.dev/colab-wheels/public/simple/\n",
            "Collecting autocorrect\n",
            "  Downloading autocorrect-2.6.1.tar.gz (622 kB)\n",
            "\u001b[2K     \u001b[90m━━━━━━━━━━━━━━━━━━━━━━━━━━━━━━━━━━━━━━\u001b[0m \u001b[32m622.8/622.8 KB\u001b[0m \u001b[31m10.1 MB/s\u001b[0m eta \u001b[36m0:00:00\u001b[0m\n",
            "\u001b[?25h  Preparing metadata (setup.py) ... \u001b[?25l\u001b[?25hdone\n",
            "Building wheels for collected packages: autocorrect\n",
            "  Building wheel for autocorrect (setup.py) ... \u001b[?25l\u001b[?25hdone\n",
            "  Created wheel for autocorrect: filename=autocorrect-2.6.1-py3-none-any.whl size=622381 sha256=104849b445a1337273c30a11fb5282528d099a152abaf3086cc2b94d47d89241\n",
            "  Stored in directory: /root/.cache/pip/wheels/ab/0f/23/3c010c3fd877b962146e7765f9e9b08026cac8b035094c5750\n",
            "Successfully built autocorrect\n",
            "Installing collected packages: autocorrect\n",
            "Successfully installed autocorrect-2.6.1\n",
            "Looking in indexes: https://pypi.org/simple, https://us-python.pkg.dev/colab-wheels/public/simple/\n",
            "Collecting unidecode\n",
            "  Downloading Unidecode-1.3.6-py3-none-any.whl (235 kB)\n",
            "\u001b[2K     \u001b[90m━━━━━━━━━━━━━━━━━━━━━━━━━━━━━━━━━━━━━━━\u001b[0m \u001b[32m235.9/235.9 KB\u001b[0m \u001b[31m5.5 MB/s\u001b[0m eta \u001b[36m0:00:00\u001b[0m\n",
            "\u001b[?25hInstalling collected packages: unidecode\n",
            "Successfully installed unidecode-1.3.6\n",
            "Looking in indexes: https://pypi.org/simple, https://us-python.pkg.dev/colab-wheels/public/simple/\n",
            "Collecting rake_nltk\n",
            "  Downloading rake_nltk-1.0.6-py3-none-any.whl (9.1 kB)\n",
            "Requirement already satisfied: nltk<4.0.0,>=3.6.2 in /usr/local/lib/python3.9/dist-packages (from rake_nltk) (3.7)\n",
            "Requirement already satisfied: click in /usr/local/lib/python3.9/dist-packages (from nltk<4.0.0,>=3.6.2->rake_nltk) (8.1.3)\n",
            "Requirement already satisfied: tqdm in /usr/local/lib/python3.9/dist-packages (from nltk<4.0.0,>=3.6.2->rake_nltk) (4.65.0)\n",
            "Requirement already satisfied: regex>=2021.8.3 in /usr/local/lib/python3.9/dist-packages (from nltk<4.0.0,>=3.6.2->rake_nltk) (2022.6.2)\n",
            "Requirement already satisfied: joblib in /usr/local/lib/python3.9/dist-packages (from nltk<4.0.0,>=3.6.2->rake_nltk) (1.2.0)\n",
            "Installing collected packages: rake_nltk\n",
            "Successfully installed rake_nltk-1.0.6\n",
            "Looking in indexes: https://pypi.org/simple, https://us-python.pkg.dev/colab-wheels/public/simple/\n",
            "Collecting yake\n",
            "  Downloading yake-0.4.8-py2.py3-none-any.whl (60 kB)\n",
            "\u001b[2K     \u001b[90m━━━━━━━━━━━━━━━━━━━━━━━━━━━━━━━━━━━━━━━━\u001b[0m \u001b[32m60.2/60.2 KB\u001b[0m \u001b[31m2.4 MB/s\u001b[0m eta \u001b[36m0:00:00\u001b[0m\n",
            "\u001b[?25hRequirement already satisfied: click>=6.0 in /usr/local/lib/python3.9/dist-packages (from yake) (8.1.3)\n",
            "Requirement already satisfied: tabulate in /usr/local/lib/python3.9/dist-packages (from yake) (0.8.10)\n",
            "Collecting jellyfish\n",
            "  Downloading jellyfish-0.9.0.tar.gz (132 kB)\n",
            "\u001b[2K     \u001b[90m━━━━━━━━━━━━━━━━━━━━━━━━━━━━━━━━━━━━━━━\u001b[0m \u001b[32m132.6/132.6 KB\u001b[0m \u001b[31m6.2 MB/s\u001b[0m eta \u001b[36m0:00:00\u001b[0m\n",
            "\u001b[?25h  Preparing metadata (setup.py) ... \u001b[?25l\u001b[?25hdone\n",
            "Collecting segtok\n",
            "  Downloading segtok-1.5.11-py3-none-any.whl (24 kB)\n",
            "Requirement already satisfied: networkx in /usr/local/lib/python3.9/dist-packages (from yake) (3.0)\n",
            "Requirement already satisfied: numpy in /usr/local/lib/python3.9/dist-packages (from yake) (1.22.4)\n",
            "Requirement already satisfied: regex in /usr/local/lib/python3.9/dist-packages (from segtok->yake) (2022.6.2)\n",
            "Building wheels for collected packages: jellyfish\n",
            "  Building wheel for jellyfish (setup.py) ... \u001b[?25l\u001b[?25hdone\n",
            "  Created wheel for jellyfish: filename=jellyfish-0.9.0-cp39-cp39-linux_x86_64.whl size=81469 sha256=ea4106bcd7c1d9e49a091ec70eb01101156b28f5a9a3b5fc02d13e891228237c\n",
            "  Stored in directory: /root/.cache/pip/wheels/a6/28/ba/284e37010e5d3aeed5e45345b58ab8683f97bdce46c9e147f9\n",
            "Successfully built jellyfish\n",
            "Installing collected packages: segtok, jellyfish, yake\n",
            "Successfully installed jellyfish-0.9.0 segtok-1.5.11 yake-0.4.8\n",
            "Looking in indexes: https://pypi.org/simple, https://us-python.pkg.dev/colab-wheels/public/simple/\n",
            "Requirement already satisfied: gensim in /usr/local/lib/python3.9/dist-packages (3.6.0)\n",
            "Requirement already satisfied: six>=1.5.0 in /usr/local/lib/python3.9/dist-packages (from gensim) (1.15.0)\n",
            "Requirement already satisfied: scipy>=0.18.1 in /usr/local/lib/python3.9/dist-packages (from gensim) (1.10.1)\n",
            "Requirement already satisfied: smart-open>=1.2.1 in /usr/local/lib/python3.9/dist-packages (from gensim) (6.3.0)\n",
            "Requirement already satisfied: numpy>=1.11.3 in /usr/local/lib/python3.9/dist-packages (from gensim) (1.22.4)\n",
            "Looking in indexes: https://pypi.org/simple, https://us-python.pkg.dev/colab-wheels/public/simple/\n",
            "Requirement already satisfied: yellowbrick in /usr/local/lib/python3.9/dist-packages (1.5)\n",
            "Requirement already satisfied: cycler>=0.10.0 in /usr/local/lib/python3.9/dist-packages (from yellowbrick) (0.11.0)\n",
            "Requirement already satisfied: numpy>=1.16.0 in /usr/local/lib/python3.9/dist-packages (from yellowbrick) (1.22.4)\n",
            "Requirement already satisfied: scikit-learn>=1.0.0 in /usr/local/lib/python3.9/dist-packages (from yellowbrick) (1.2.1)\n",
            "Requirement already satisfied: matplotlib!=3.0.0,>=2.0.2 in /usr/local/lib/python3.9/dist-packages (from yellowbrick) (3.5.3)\n",
            "Requirement already satisfied: scipy>=1.0.0 in /usr/local/lib/python3.9/dist-packages (from yellowbrick) (1.10.1)\n",
            "Requirement already satisfied: pillow>=6.2.0 in /usr/local/lib/python3.9/dist-packages (from matplotlib!=3.0.0,>=2.0.2->yellowbrick) (8.4.0)\n",
            "Requirement already satisfied: fonttools>=4.22.0 in /usr/local/lib/python3.9/dist-packages (from matplotlib!=3.0.0,>=2.0.2->yellowbrick) (4.39.0)\n",
            "Requirement already satisfied: python-dateutil>=2.7 in /usr/local/lib/python3.9/dist-packages (from matplotlib!=3.0.0,>=2.0.2->yellowbrick) (2.8.2)\n",
            "Requirement already satisfied: kiwisolver>=1.0.1 in /usr/local/lib/python3.9/dist-packages (from matplotlib!=3.0.0,>=2.0.2->yellowbrick) (1.4.4)\n",
            "Requirement already satisfied: packaging>=20.0 in /usr/local/lib/python3.9/dist-packages (from matplotlib!=3.0.0,>=2.0.2->yellowbrick) (23.0)\n",
            "Requirement already satisfied: pyparsing>=2.2.1 in /usr/local/lib/python3.9/dist-packages (from matplotlib!=3.0.0,>=2.0.2->yellowbrick) (3.0.9)\n",
            "Requirement already satisfied: threadpoolctl>=2.0.0 in /usr/local/lib/python3.9/dist-packages (from scikit-learn>=1.0.0->yellowbrick) (3.1.0)\n",
            "Requirement already satisfied: joblib>=1.1.1 in /usr/local/lib/python3.9/dist-packages (from scikit-learn>=1.0.0->yellowbrick) (1.2.0)\n",
            "Requirement already satisfied: six>=1.5 in /usr/local/lib/python3.9/dist-packages (from python-dateutil>=2.7->matplotlib!=3.0.0,>=2.0.2->yellowbrick) (1.15.0)\n",
            "Looking in indexes: https://pypi.org/simple, https://us-python.pkg.dev/colab-wheels/public/simple/\n",
            "Requirement already satisfied: imblearn in /usr/local/lib/python3.9/dist-packages (0.0)\n",
            "Requirement already satisfied: imbalanced-learn in /usr/local/lib/python3.9/dist-packages (from imblearn) (0.8.1)\n",
            "Requirement already satisfied: joblib>=0.11 in /usr/local/lib/python3.9/dist-packages (from imbalanced-learn->imblearn) (1.2.0)\n",
            "Requirement already satisfied: scipy>=0.19.1 in /usr/local/lib/python3.9/dist-packages (from imbalanced-learn->imblearn) (1.10.1)\n",
            "Requirement already satisfied: numpy>=1.13.3 in /usr/local/lib/python3.9/dist-packages (from imbalanced-learn->imblearn) (1.22.4)\n",
            "Requirement already satisfied: scikit-learn>=0.24 in /usr/local/lib/python3.9/dist-packages (from imbalanced-learn->imblearn) (1.2.1)\n",
            "Requirement already satisfied: threadpoolctl>=2.0.0 in /usr/local/lib/python3.9/dist-packages (from scikit-learn>=0.24->imbalanced-learn->imblearn) (3.1.0)\n"
          ]
        }
      ],
      "source": [
        "# installation of important libraries \n",
        "# (make sure you install these libraies else you will get error in importation)\n",
        "!pip install langdetect\n",
        "!pip install googletrans==3.1.0a0\n",
        "!pip install collections\n",
        "!pip install wordcloud\n",
        "!pip install contractions\n",
        "!pip install autocorrect\n",
        "!pip install unidecode\n",
        "!pip install rake_nltk\n",
        "!pip install yake\n",
        "!pip install gensim\n",
        "!pip install yellowbrick\n",
        "!pip install imblearn"
      ]
    },
    {
      "cell_type": "code",
      "execution_count": null,
      "metadata": {
        "id": "Owdoqx8WI1iz"
      },
      "outputs": [],
      "source": [
        "# importing libraries\n",
        "# for language detection\n",
        "from langdetect import detect\n",
        "\n",
        "# for language translation\n",
        "from googletrans import Translator\n",
        "\n",
        "# to get counts and most common elements\n",
        "from collections import Counter\n",
        "\n",
        "# for visualization\n",
        "import matplotlib.pyplot as plt\n",
        "import seaborn as sns\n",
        "\n",
        "# to get wordcloud\n",
        "from wordcloud import WordCloud\n",
        "\n",
        "# to fetch ngrams\n",
        "from nltk.util import ngrams\n",
        "\n",
        "# to ignore warnings\n",
        "import warnings\n",
        "warnings.filterwarnings('ignore')\n",
        "\n",
        "# for data analysis and manipulation\n",
        "import pandas as pd\n",
        "import numpy as np\n",
        "\n",
        "# to expand the text (don't to do not)\n",
        "import contractions\n",
        "\n",
        "# to auto correct the words\n",
        "from autocorrect import Speller\n",
        "\n",
        "# for handling accented characters (Á to A)\n",
        "from unidecode import unidecode\n",
        "\n",
        "# to get list of punctuations\n",
        "from string import punctuation\n",
        "\n",
        "# nltk libraries \n",
        "from nltk.tokenize import word_tokenize # to make tokens (sentense/words)\n",
        "from nltk.corpus import stopwords # to get list of stopwords\n",
        "from nltk.stem import WordNetLemmatizer # to find root words\n",
        "\n",
        "# for extracting the keywords\n",
        "import yake\n",
        "from rake_nltk import Rake\n",
        "\n",
        "# for making vectors of the documents\n",
        "from gensim.models import Word2Vec, keyedvectors\n",
        "\n",
        "# to see how the clusters are generated\n",
        "from yellowbrick.cluster import SilhouetteVisualizer\n",
        "\n",
        "# scikit_learn libraries\n",
        "from sklearn.feature_extraction.text import CountVectorizer, TfidfVectorizer\n",
        "from sklearn.cluster import KMeans\n",
        "from sklearn.metrics import silhouette_score, accuracy_score, classification_report\n",
        "from sklearn.model_selection import train_test_split\n",
        "from sklearn.naive_bayes import MultinomialNB, GaussianNB\n",
        "from xgboost import XGBClassifier\n",
        "\n",
        "# to balance the data\n",
        "from imblearn.over_sampling import SMOTE"
      ]
    },
    {
      "cell_type": "markdown",
      "metadata": {
        "id": "OxmaE2NRI1i5"
      },
      "source": [
        "# Data Gathering"
      ]
    },
    {
      "cell_type": "code",
      "execution_count": null,
      "metadata": {
        "colab": {
          "base_uri": "https://localhost:8080/",
          "height": 206
        },
        "id": "iBWDzvArI1i7",
        "outputId": "a7171531-5445-41a7-b4c7-e9c081beab8b"
      },
      "outputs": [
        {
          "data": {
            "text/html": [
              "\n",
              "  <div id=\"df-2c4751e7-0562-45db-bfab-058b49a14fa7\">\n",
              "    <div class=\"colab-df-container\">\n",
              "      <div>\n",
              "<style scoped>\n",
              "    .dataframe tbody tr th:only-of-type {\n",
              "        vertical-align: middle;\n",
              "    }\n",
              "\n",
              "    .dataframe tbody tr th {\n",
              "        vertical-align: top;\n",
              "    }\n",
              "\n",
              "    .dataframe thead th {\n",
              "        text-align: right;\n",
              "    }\n",
              "</style>\n",
              "<table border=\"1\" class=\"dataframe\">\n",
              "  <thead>\n",
              "    <tr style=\"text-align: right;\">\n",
              "      <th></th>\n",
              "      <th>v1</th>\n",
              "      <th>v2</th>\n",
              "      <th>Unnamed: 2</th>\n",
              "      <th>Unnamed: 3</th>\n",
              "      <th>Unnamed: 4</th>\n",
              "    </tr>\n",
              "  </thead>\n",
              "  <tbody>\n",
              "    <tr>\n",
              "      <th>0</th>\n",
              "      <td>ham</td>\n",
              "      <td>Go until jurong point, crazy.. Available only ...</td>\n",
              "      <td>NaN</td>\n",
              "      <td>NaN</td>\n",
              "      <td>NaN</td>\n",
              "    </tr>\n",
              "    <tr>\n",
              "      <th>1</th>\n",
              "      <td>ham</td>\n",
              "      <td>Ok lar... Joking wif u oni...</td>\n",
              "      <td>NaN</td>\n",
              "      <td>NaN</td>\n",
              "      <td>NaN</td>\n",
              "    </tr>\n",
              "    <tr>\n",
              "      <th>2</th>\n",
              "      <td>spam</td>\n",
              "      <td>Free entry in 2 a wkly comp to win FA Cup fina...</td>\n",
              "      <td>NaN</td>\n",
              "      <td>NaN</td>\n",
              "      <td>NaN</td>\n",
              "    </tr>\n",
              "    <tr>\n",
              "      <th>3</th>\n",
              "      <td>ham</td>\n",
              "      <td>U dun say so early hor... U c already then say...</td>\n",
              "      <td>NaN</td>\n",
              "      <td>NaN</td>\n",
              "      <td>NaN</td>\n",
              "    </tr>\n",
              "    <tr>\n",
              "      <th>4</th>\n",
              "      <td>ham</td>\n",
              "      <td>Nah I don't think he goes to usf, he lives aro...</td>\n",
              "      <td>NaN</td>\n",
              "      <td>NaN</td>\n",
              "      <td>NaN</td>\n",
              "    </tr>\n",
              "  </tbody>\n",
              "</table>\n",
              "</div>\n",
              "      <button class=\"colab-df-convert\" onclick=\"convertToInteractive('df-2c4751e7-0562-45db-bfab-058b49a14fa7')\"\n",
              "              title=\"Convert this dataframe to an interactive table.\"\n",
              "              style=\"display:none;\">\n",
              "        \n",
              "  <svg xmlns=\"http://www.w3.org/2000/svg\" height=\"24px\"viewBox=\"0 0 24 24\"\n",
              "       width=\"24px\">\n",
              "    <path d=\"M0 0h24v24H0V0z\" fill=\"none\"/>\n",
              "    <path d=\"M18.56 5.44l.94 2.06.94-2.06 2.06-.94-2.06-.94-.94-2.06-.94 2.06-2.06.94zm-11 1L8.5 8.5l.94-2.06 2.06-.94-2.06-.94L8.5 2.5l-.94 2.06-2.06.94zm10 10l.94 2.06.94-2.06 2.06-.94-2.06-.94-.94-2.06-.94 2.06-2.06.94z\"/><path d=\"M17.41 7.96l-1.37-1.37c-.4-.4-.92-.59-1.43-.59-.52 0-1.04.2-1.43.59L10.3 9.45l-7.72 7.72c-.78.78-.78 2.05 0 2.83L4 21.41c.39.39.9.59 1.41.59.51 0 1.02-.2 1.41-.59l7.78-7.78 2.81-2.81c.8-.78.8-2.07 0-2.86zM5.41 20L4 18.59l7.72-7.72 1.47 1.35L5.41 20z\"/>\n",
              "  </svg>\n",
              "      </button>\n",
              "      \n",
              "  <style>\n",
              "    .colab-df-container {\n",
              "      display:flex;\n",
              "      flex-wrap:wrap;\n",
              "      gap: 12px;\n",
              "    }\n",
              "\n",
              "    .colab-df-convert {\n",
              "      background-color: #E8F0FE;\n",
              "      border: none;\n",
              "      border-radius: 50%;\n",
              "      cursor: pointer;\n",
              "      display: none;\n",
              "      fill: #1967D2;\n",
              "      height: 32px;\n",
              "      padding: 0 0 0 0;\n",
              "      width: 32px;\n",
              "    }\n",
              "\n",
              "    .colab-df-convert:hover {\n",
              "      background-color: #E2EBFA;\n",
              "      box-shadow: 0px 1px 2px rgba(60, 64, 67, 0.3), 0px 1px 3px 1px rgba(60, 64, 67, 0.15);\n",
              "      fill: #174EA6;\n",
              "    }\n",
              "\n",
              "    [theme=dark] .colab-df-convert {\n",
              "      background-color: #3B4455;\n",
              "      fill: #D2E3FC;\n",
              "    }\n",
              "\n",
              "    [theme=dark] .colab-df-convert:hover {\n",
              "      background-color: #434B5C;\n",
              "      box-shadow: 0px 1px 3px 1px rgba(0, 0, 0, 0.15);\n",
              "      filter: drop-shadow(0px 1px 2px rgba(0, 0, 0, 0.3));\n",
              "      fill: #FFFFFF;\n",
              "    }\n",
              "  </style>\n",
              "\n",
              "      <script>\n",
              "        const buttonEl =\n",
              "          document.querySelector('#df-2c4751e7-0562-45db-bfab-058b49a14fa7 button.colab-df-convert');\n",
              "        buttonEl.style.display =\n",
              "          google.colab.kernel.accessAllowed ? 'block' : 'none';\n",
              "\n",
              "        async function convertToInteractive(key) {\n",
              "          const element = document.querySelector('#df-2c4751e7-0562-45db-bfab-058b49a14fa7');\n",
              "          const dataTable =\n",
              "            await google.colab.kernel.invokeFunction('convertToInteractive',\n",
              "                                                     [key], {});\n",
              "          if (!dataTable) return;\n",
              "\n",
              "          const docLinkHtml = 'Like what you see? Visit the ' +\n",
              "            '<a target=\"_blank\" href=https://colab.research.google.com/notebooks/data_table.ipynb>data table notebook</a>'\n",
              "            + ' to learn more about interactive tables.';\n",
              "          element.innerHTML = '';\n",
              "          dataTable['output_type'] = 'display_data';\n",
              "          await google.colab.output.renderOutput(dataTable, element);\n",
              "          const docLink = document.createElement('div');\n",
              "          docLink.innerHTML = docLinkHtml;\n",
              "          element.appendChild(docLink);\n",
              "        }\n",
              "      </script>\n",
              "    </div>\n",
              "  </div>\n",
              "  "
            ],
            "text/plain": [
              "     v1                                                 v2 Unnamed: 2  \\\n",
              "0   ham  Go until jurong point, crazy.. Available only ...        NaN   \n",
              "1   ham                      Ok lar... Joking wif u oni...        NaN   \n",
              "2  spam  Free entry in 2 a wkly comp to win FA Cup fina...        NaN   \n",
              "3   ham  U dun say so early hor... U c already then say...        NaN   \n",
              "4   ham  Nah I don't think he goes to usf, he lives aro...        NaN   \n",
              "\n",
              "  Unnamed: 3 Unnamed: 4  \n",
              "0        NaN        NaN  \n",
              "1        NaN        NaN  \n",
              "2        NaN        NaN  \n",
              "3        NaN        NaN  \n",
              "4        NaN        NaN  "
            ]
          },
          "execution_count": 4,
          "metadata": {},
          "output_type": "execute_result"
        }
      ],
      "source": [
        "path = \"spam.csv\"\n",
        "df = pd.read_csv(path,encoding = \"ISO-8859-1\")\n",
        "df.head()"
      ]
    },
    {
      "cell_type": "markdown",
      "metadata": {
        "id": "zPSGEL0vI1jG"
      },
      "source": [
        "#### Data Information\n",
        "we have the data, including v1,v2,Unnamed:2, etc coloumns. \n",
        "    \n",
        "    v1: has the information about ham or spam (Target Variable)\n",
        "    \n",
        "    v2: has the text of the mails.\n",
        "    rest are empty. \n",
        "    \n",
        "**So I will take only two columns (v1 and v2), and rename them according to my needs. After that, I will detect the languages and translate them in only english**"
      ]
    },
    {
      "cell_type": "markdown",
      "metadata": {
        "id": "72KIwPrHI1jI"
      },
      "source": [
        "### Initial Preprocessing"
      ]
    },
    {
      "cell_type": "code",
      "execution_count": null,
      "metadata": {
        "colab": {
          "base_uri": "https://localhost:8080/",
          "height": 206
        },
        "id": "eQbBWa9NI1jL",
        "outputId": "9ee4fe6a-e365-4bab-c892-a22fc533a629"
      },
      "outputs": [
        {
          "data": {
            "text/html": [
              "\n",
              "  <div id=\"df-2afe1e3d-dfe9-4530-a2f1-0585ce34a288\">\n",
              "    <div class=\"colab-df-container\">\n",
              "      <div>\n",
              "<style scoped>\n",
              "    .dataframe tbody tr th:only-of-type {\n",
              "        vertical-align: middle;\n",
              "    }\n",
              "\n",
              "    .dataframe tbody tr th {\n",
              "        vertical-align: top;\n",
              "    }\n",
              "\n",
              "    .dataframe thead th {\n",
              "        text-align: right;\n",
              "    }\n",
              "</style>\n",
              "<table border=\"1\" class=\"dataframe\">\n",
              "  <thead>\n",
              "    <tr style=\"text-align: right;\">\n",
              "      <th></th>\n",
              "      <th>target</th>\n",
              "      <th>text</th>\n",
              "    </tr>\n",
              "  </thead>\n",
              "  <tbody>\n",
              "    <tr>\n",
              "      <th>0</th>\n",
              "      <td>ham</td>\n",
              "      <td>Go until jurong point, crazy.. Available only ...</td>\n",
              "    </tr>\n",
              "    <tr>\n",
              "      <th>1</th>\n",
              "      <td>ham</td>\n",
              "      <td>Ok lar... Joking wif u oni...</td>\n",
              "    </tr>\n",
              "    <tr>\n",
              "      <th>2</th>\n",
              "      <td>spam</td>\n",
              "      <td>Free entry in 2 a wkly comp to win FA Cup fina...</td>\n",
              "    </tr>\n",
              "    <tr>\n",
              "      <th>3</th>\n",
              "      <td>ham</td>\n",
              "      <td>U dun say so early hor... U c already then say...</td>\n",
              "    </tr>\n",
              "    <tr>\n",
              "      <th>4</th>\n",
              "      <td>ham</td>\n",
              "      <td>Nah I don't think he goes to usf, he lives aro...</td>\n",
              "    </tr>\n",
              "  </tbody>\n",
              "</table>\n",
              "</div>\n",
              "      <button class=\"colab-df-convert\" onclick=\"convertToInteractive('df-2afe1e3d-dfe9-4530-a2f1-0585ce34a288')\"\n",
              "              title=\"Convert this dataframe to an interactive table.\"\n",
              "              style=\"display:none;\">\n",
              "        \n",
              "  <svg xmlns=\"http://www.w3.org/2000/svg\" height=\"24px\"viewBox=\"0 0 24 24\"\n",
              "       width=\"24px\">\n",
              "    <path d=\"M0 0h24v24H0V0z\" fill=\"none\"/>\n",
              "    <path d=\"M18.56 5.44l.94 2.06.94-2.06 2.06-.94-2.06-.94-.94-2.06-.94 2.06-2.06.94zm-11 1L8.5 8.5l.94-2.06 2.06-.94-2.06-.94L8.5 2.5l-.94 2.06-2.06.94zm10 10l.94 2.06.94-2.06 2.06-.94-2.06-.94-.94-2.06-.94 2.06-2.06.94z\"/><path d=\"M17.41 7.96l-1.37-1.37c-.4-.4-.92-.59-1.43-.59-.52 0-1.04.2-1.43.59L10.3 9.45l-7.72 7.72c-.78.78-.78 2.05 0 2.83L4 21.41c.39.39.9.59 1.41.59.51 0 1.02-.2 1.41-.59l7.78-7.78 2.81-2.81c.8-.78.8-2.07 0-2.86zM5.41 20L4 18.59l7.72-7.72 1.47 1.35L5.41 20z\"/>\n",
              "  </svg>\n",
              "      </button>\n",
              "      \n",
              "  <style>\n",
              "    .colab-df-container {\n",
              "      display:flex;\n",
              "      flex-wrap:wrap;\n",
              "      gap: 12px;\n",
              "    }\n",
              "\n",
              "    .colab-df-convert {\n",
              "      background-color: #E8F0FE;\n",
              "      border: none;\n",
              "      border-radius: 50%;\n",
              "      cursor: pointer;\n",
              "      display: none;\n",
              "      fill: #1967D2;\n",
              "      height: 32px;\n",
              "      padding: 0 0 0 0;\n",
              "      width: 32px;\n",
              "    }\n",
              "\n",
              "    .colab-df-convert:hover {\n",
              "      background-color: #E2EBFA;\n",
              "      box-shadow: 0px 1px 2px rgba(60, 64, 67, 0.3), 0px 1px 3px 1px rgba(60, 64, 67, 0.15);\n",
              "      fill: #174EA6;\n",
              "    }\n",
              "\n",
              "    [theme=dark] .colab-df-convert {\n",
              "      background-color: #3B4455;\n",
              "      fill: #D2E3FC;\n",
              "    }\n",
              "\n",
              "    [theme=dark] .colab-df-convert:hover {\n",
              "      background-color: #434B5C;\n",
              "      box-shadow: 0px 1px 3px 1px rgba(0, 0, 0, 0.15);\n",
              "      filter: drop-shadow(0px 1px 2px rgba(0, 0, 0, 0.3));\n",
              "      fill: #FFFFFF;\n",
              "    }\n",
              "  </style>\n",
              "\n",
              "      <script>\n",
              "        const buttonEl =\n",
              "          document.querySelector('#df-2afe1e3d-dfe9-4530-a2f1-0585ce34a288 button.colab-df-convert');\n",
              "        buttonEl.style.display =\n",
              "          google.colab.kernel.accessAllowed ? 'block' : 'none';\n",
              "\n",
              "        async function convertToInteractive(key) {\n",
              "          const element = document.querySelector('#df-2afe1e3d-dfe9-4530-a2f1-0585ce34a288');\n",
              "          const dataTable =\n",
              "            await google.colab.kernel.invokeFunction('convertToInteractive',\n",
              "                                                     [key], {});\n",
              "          if (!dataTable) return;\n",
              "\n",
              "          const docLinkHtml = 'Like what you see? Visit the ' +\n",
              "            '<a target=\"_blank\" href=https://colab.research.google.com/notebooks/data_table.ipynb>data table notebook</a>'\n",
              "            + ' to learn more about interactive tables.';\n",
              "          element.innerHTML = '';\n",
              "          dataTable['output_type'] = 'display_data';\n",
              "          await google.colab.output.renderOutput(dataTable, element);\n",
              "          const docLink = document.createElement('div');\n",
              "          docLink.innerHTML = docLinkHtml;\n",
              "          element.appendChild(docLink);\n",
              "        }\n",
              "      </script>\n",
              "    </div>\n",
              "  </div>\n",
              "  "
            ],
            "text/plain": [
              "  target                                               text\n",
              "0    ham  Go until jurong point, crazy.. Available only ...\n",
              "1    ham                      Ok lar... Joking wif u oni...\n",
              "2   spam  Free entry in 2 a wkly comp to win FA Cup fina...\n",
              "3    ham  U dun say so early hor... U c already then say...\n",
              "4    ham  Nah I don't think he goes to usf, he lives aro..."
            ]
          },
          "execution_count": 5,
          "metadata": {},
          "output_type": "execute_result"
        }
      ],
      "source": [
        "# renaming the columns\n",
        "df = df[[\"v1\",\"v2\"]]\n",
        "df.rename({\"v1\": \"target\",\"v2\":\"text\"},axis = 1,inplace=True)\n",
        "df.head()"
      ]
    },
    {
      "cell_type": "code",
      "execution_count": null,
      "metadata": {
        "colab": {
          "base_uri": "https://localhost:8080/"
        },
        "id": "8KNG4C4gI1jP",
        "outputId": "472358f5-739d-436c-cab2-9509e2a29ca9"
      },
      "outputs": [
        {
          "data": {
            "text/plain": [
              "array(['en', 'id', 'fr', 'so', 'af', 'it', 'ca', 'da', 'cy', 'sk', 'sl',\n",
              "       'sv', 'nl', 'tl', 'es', 'vi', 'no', 'de', 'sq', 'et', 'pt', 'sw',\n",
              "       'pl', 'hr', '', 'ro', 'tr', 'cs', 'lt', 'fi'], dtype=object)"
            ]
          },
          "execution_count": 6,
          "metadata": {},
          "output_type": "execute_result"
        }
      ],
      "source": [
        "# Defining the function to detect languages\n",
        "# If we have empty string so langdetect will give error. So, I am using try except.\n",
        "def lang_detect(data):\n",
        "    m = \"\"\n",
        "    try:\n",
        "        m = detect(data)\n",
        "    except:\n",
        "        pass\n",
        "    return m\n",
        "s = pd.Series(df[\"text\"].apply(lang_detect))\n",
        "s.unique()"
      ]
    },
    {
      "cell_type": "code",
      "execution_count": null,
      "metadata": {
        "colab": {
          "background_save": true
        },
        "id": "aXGl3skYI1jW",
        "outputId": "c20ffc27-2cb3-45c1-ee6f-1c10c6b1e96e"
      },
      "outputs": [
        {
          "data": {
            "text/html": [
              "\n",
              "  <div id=\"df-312d7f73-1d44-4a81-b044-24f5f4d38dd4\">\n",
              "    <div class=\"colab-df-container\">\n",
              "      <div>\n",
              "<style scoped>\n",
              "    .dataframe tbody tr th:only-of-type {\n",
              "        vertical-align: middle;\n",
              "    }\n",
              "\n",
              "    .dataframe tbody tr th {\n",
              "        vertical-align: top;\n",
              "    }\n",
              "\n",
              "    .dataframe thead th {\n",
              "        text-align: right;\n",
              "    }\n",
              "</style>\n",
              "<table border=\"1\" class=\"dataframe\">\n",
              "  <thead>\n",
              "    <tr style=\"text-align: right;\">\n",
              "      <th></th>\n",
              "      <th>target</th>\n",
              "      <th>text</th>\n",
              "      <th>mail</th>\n",
              "    </tr>\n",
              "  </thead>\n",
              "  <tbody>\n",
              "    <tr>\n",
              "      <th>0</th>\n",
              "      <td>ham</td>\n",
              "      <td>Go until jurong point, crazy.. Available only ...</td>\n",
              "      <td>Go until jurong point, crazy.. Available only ...</td>\n",
              "    </tr>\n",
              "    <tr>\n",
              "      <th>1</th>\n",
              "      <td>ham</td>\n",
              "      <td>Ok lar... Joking wif u oni...</td>\n",
              "      <td>Ok lar... Joking wif u oni...</td>\n",
              "    </tr>\n",
              "    <tr>\n",
              "      <th>2</th>\n",
              "      <td>spam</td>\n",
              "      <td>Free entry in 2 a wkly comp to win FA Cup fina...</td>\n",
              "      <td>Free entry in 2 a wkly comp to win FA Cup fina...</td>\n",
              "    </tr>\n",
              "    <tr>\n",
              "      <th>3</th>\n",
              "      <td>ham</td>\n",
              "      <td>U dun say so early hor... U c already then say...</td>\n",
              "      <td>U dun say so early hor... U c already then say...</td>\n",
              "    </tr>\n",
              "    <tr>\n",
              "      <th>4</th>\n",
              "      <td>ham</td>\n",
              "      <td>Nah I don't think he goes to usf, he lives aro...</td>\n",
              "      <td>Nah I don't think he goes to usf, he lives aro...</td>\n",
              "    </tr>\n",
              "  </tbody>\n",
              "</table>\n",
              "</div>\n",
              "      <button class=\"colab-df-convert\" onclick=\"convertToInteractive('df-312d7f73-1d44-4a81-b044-24f5f4d38dd4')\"\n",
              "              title=\"Convert this dataframe to an interactive table.\"\n",
              "              style=\"display:none;\">\n",
              "        \n",
              "  <svg xmlns=\"http://www.w3.org/2000/svg\" height=\"24px\"viewBox=\"0 0 24 24\"\n",
              "       width=\"24px\">\n",
              "    <path d=\"M0 0h24v24H0V0z\" fill=\"none\"/>\n",
              "    <path d=\"M18.56 5.44l.94 2.06.94-2.06 2.06-.94-2.06-.94-.94-2.06-.94 2.06-2.06.94zm-11 1L8.5 8.5l.94-2.06 2.06-.94-2.06-.94L8.5 2.5l-.94 2.06-2.06.94zm10 10l.94 2.06.94-2.06 2.06-.94-2.06-.94-.94-2.06-.94 2.06-2.06.94z\"/><path d=\"M17.41 7.96l-1.37-1.37c-.4-.4-.92-.59-1.43-.59-.52 0-1.04.2-1.43.59L10.3 9.45l-7.72 7.72c-.78.78-.78 2.05 0 2.83L4 21.41c.39.39.9.59 1.41.59.51 0 1.02-.2 1.41-.59l7.78-7.78 2.81-2.81c.8-.78.8-2.07 0-2.86zM5.41 20L4 18.59l7.72-7.72 1.47 1.35L5.41 20z\"/>\n",
              "  </svg>\n",
              "      </button>\n",
              "      \n",
              "  <style>\n",
              "    .colab-df-container {\n",
              "      display:flex;\n",
              "      flex-wrap:wrap;\n",
              "      gap: 12px;\n",
              "    }\n",
              "\n",
              "    .colab-df-convert {\n",
              "      background-color: #E8F0FE;\n",
              "      border: none;\n",
              "      border-radius: 50%;\n",
              "      cursor: pointer;\n",
              "      display: none;\n",
              "      fill: #1967D2;\n",
              "      height: 32px;\n",
              "      padding: 0 0 0 0;\n",
              "      width: 32px;\n",
              "    }\n",
              "\n",
              "    .colab-df-convert:hover {\n",
              "      background-color: #E2EBFA;\n",
              "      box-shadow: 0px 1px 2px rgba(60, 64, 67, 0.3), 0px 1px 3px 1px rgba(60, 64, 67, 0.15);\n",
              "      fill: #174EA6;\n",
              "    }\n",
              "\n",
              "    [theme=dark] .colab-df-convert {\n",
              "      background-color: #3B4455;\n",
              "      fill: #D2E3FC;\n",
              "    }\n",
              "\n",
              "    [theme=dark] .colab-df-convert:hover {\n",
              "      background-color: #434B5C;\n",
              "      box-shadow: 0px 1px 3px 1px rgba(0, 0, 0, 0.15);\n",
              "      filter: drop-shadow(0px 1px 2px rgba(0, 0, 0, 0.3));\n",
              "      fill: #FFFFFF;\n",
              "    }\n",
              "  </style>\n",
              "\n",
              "      <script>\n",
              "        const buttonEl =\n",
              "          document.querySelector('#df-312d7f73-1d44-4a81-b044-24f5f4d38dd4 button.colab-df-convert');\n",
              "        buttonEl.style.display =\n",
              "          google.colab.kernel.accessAllowed ? 'block' : 'none';\n",
              "\n",
              "        async function convertToInteractive(key) {\n",
              "          const element = document.querySelector('#df-312d7f73-1d44-4a81-b044-24f5f4d38dd4');\n",
              "          const dataTable =\n",
              "            await google.colab.kernel.invokeFunction('convertToInteractive',\n",
              "                                                     [key], {});\n",
              "          if (!dataTable) return;\n",
              "\n",
              "          const docLinkHtml = 'Like what you see? Visit the ' +\n",
              "            '<a target=\"_blank\" href=https://colab.research.google.com/notebooks/data_table.ipynb>data table notebook</a>'\n",
              "            + ' to learn more about interactive tables.';\n",
              "          element.innerHTML = '';\n",
              "          dataTable['output_type'] = 'display_data';\n",
              "          await google.colab.output.renderOutput(dataTable, element);\n",
              "          const docLink = document.createElement('div');\n",
              "          docLink.innerHTML = docLinkHtml;\n",
              "          element.appendChild(docLink);\n",
              "        }\n",
              "      </script>\n",
              "    </div>\n",
              "  </div>\n",
              "  "
            ],
            "text/plain": [
              "  target                                               text  \\\n",
              "0    ham  Go until jurong point, crazy.. Available only ...   \n",
              "1    ham                      Ok lar... Joking wif u oni...   \n",
              "2   spam  Free entry in 2 a wkly comp to win FA Cup fina...   \n",
              "3    ham  U dun say so early hor... U c already then say...   \n",
              "4    ham  Nah I don't think he goes to usf, he lives aro...   \n",
              "\n",
              "                                                mail  \n",
              "0  Go until jurong point, crazy.. Available only ...  \n",
              "1                      Ok lar... Joking wif u oni...  \n",
              "2  Free entry in 2 a wkly comp to win FA Cup fina...  \n",
              "3  U dun say so early hor... U c already then say...  \n",
              "4  Nah I don't think he goes to usf, he lives aro...  "
            ]
          },
          "execution_count": 7,
          "metadata": {},
          "output_type": "execute_result"
        }
      ],
      "source": [
        "#defining the function for translation\n",
        "def lang_translate(data):\n",
        "    translor = Translator()\n",
        "    tr_text = translor.translate(data,dest=\"en\")\n",
        "    return tr_text.text\n",
        "df[\"mail\"] = df[\"text\"].apply(lang_translate)\n",
        "df.head()"
      ]
    },
    {
      "cell_type": "code",
      "execution_count": null,
      "metadata": {
        "colab": {
          "background_save": true
        },
        "id": "I7nVkS64I1jY"
      },
      "outputs": [],
      "source": [
        "# As we know translator takes high time to translate.\n",
        "# So I am exporting this file for further use.\n",
        "df.to_csv(\"translated_mail.csv\",index = False)"
      ]
    },
    {
      "cell_type": "code",
      "execution_count": null,
      "metadata": {
        "colab": {
          "background_save": true
        },
        "id": "GMnP8ywhI1jZ"
      },
      "outputs": [],
      "source": [
        "# dropping the text features as we have new features mail with translated mails\n",
        "df.drop(\"text\",axis = 1, inplace = True)"
      ]
    },
    {
      "cell_type": "markdown",
      "metadata": {
        "id": "REN9XAdbI1lr"
      },
      "source": [
        "# EDA"
      ]
    },
    {
      "cell_type": "code",
      "execution_count": null,
      "metadata": {
        "colab": {
          "background_save": true
        },
        "id": "KPyb2TpPI1lt",
        "outputId": "da2967ab-d669-463a-8464-779e36992cc4"
      },
      "outputs": [
        {
          "name": "stdout",
          "output_type": "stream",
          "text": [
            "<class 'pandas.core.frame.DataFrame'>\n",
            "RangeIndex: 5572 entries, 0 to 5571\n",
            "Data columns (total 2 columns):\n",
            " #   Column  Non-Null Count  Dtype \n",
            "---  ------  --------------  ----- \n",
            " 0   target  5572 non-null   object\n",
            " 1   mail    5572 non-null   object\n",
            "dtypes: object(2)\n",
            "memory usage: 87.2+ KB\n"
          ]
        }
      ],
      "source": [
        "df.info()"
      ]
    },
    {
      "cell_type": "code",
      "execution_count": null,
      "metadata": {
        "colab": {
          "background_save": true
        },
        "id": "EsUvCQMtI1lv",
        "outputId": "f141eb33-cbdc-401b-c489-3b5b4a6a8a88"
      },
      "outputs": [
        {
          "data": {
            "text/plain": [
              "target    0\n",
              "mail      0\n",
              "dtype: int64"
            ]
          },
          "execution_count": 11,
          "metadata": {},
          "output_type": "execute_result"
        }
      ],
      "source": [
        "df.isna().sum()"
      ]
    },
    {
      "cell_type": "markdown",
      "metadata": {
        "id": "NYGQYJJKI1lw"
      },
      "source": [
        "**No null values found**"
      ]
    },
    {
      "cell_type": "code",
      "execution_count": null,
      "metadata": {
        "colab": {
          "background_save": true
        },
        "id": "eK0sVjXQI1ly",
        "outputId": "1dc6750b-3da7-4ba7-df73-4cfff5e348c1"
      },
      "outputs": [
        {
          "data": {
            "image/png": "[encoded data removed]",
            "text/plain": [
              "<Figure size 432x216 with 1 Axes>"
            ]
          },
          "metadata": {},
          "output_type": "display_data"
        }
      ],
      "source": [
        "_ = df.target.value_counts()\n",
        "plt.figure(figsize = (6,3))\n",
        "_.plot(kind = \"bar\",color = \"r\")\n",
        "plt.ylabel(\"Counts\")\n",
        "plt.xlabel(\"Categories\")\n",
        "plt.title(\"Category Wise Counts\")\n",
        "plt.show()"
      ]
    },
    {
      "cell_type": "markdown",
      "metadata": {
        "id": "jphEdaXOI1lz"
      },
      "source": [
        "**Here we can see that, Data is highly imbalanced**"
      ]
    },
    {
      "cell_type": "markdown",
      "metadata": {
        "id": "8Hd3L0xGI1l2"
      },
      "source": [
        "### Checking Ngrams"
      ]
    },
    {
      "cell_type": "code",
      "execution_count": null,
      "metadata": {
        "colab": {
          "background_save": true
        },
        "id": "fRH2QopaI1l3"
      },
      "outputs": [],
      "source": [
        "# defining function to get ngrams\n",
        "def get_ngrams(data, n_range):\n",
        "    tokens = data.split()\n",
        "    ngrms  = ngrams(tokens, n_range ) # provide zip file\n",
        "    ngrms_lst = []\n",
        "    for i in ngrms: #unzipping the file\n",
        "        ngrms_lst.append(\" \".join(i))\n",
        "    return ngrms_lst"
      ]
    },
    {
      "cell_type": "code",
      "execution_count": null,
      "metadata": {
        "colab": {
          "background_save": true
        },
        "id": "UlrdLqM9I1l4",
        "outputId": "52901bb7-7de6-4f5a-be6d-c4062eb41673"
      },
      "outputs": [
        {
          "data": {
            "text/plain": [
              "0    [Go, until, jurong, point,, crazy.., Available...\n",
              "1                 [Ok, lar..., Joking, wif, u, oni...]\n",
              "2    [Free, entry, in, 2, a, wkly, comp, to, win, F...\n",
              "3    [U, dun, say, so, early, hor..., U, c, already...\n",
              "4    [Nah, I, don't, think, he, goes, to, usf,, he,...\n",
              "5    [FreeMsg, Hey, there, darling, it's, been, 3, ...\n",
              "6    [Even, my, brother, is, not, like, to, speak, ...\n",
              "7    [As, per, your, request, 'Melle, Melle, (Oru, ...\n",
              "8    [WINNER!!, As, a, valued, network, customer, y...\n",
              "9    [Had, your, mobile, 11, months, or, more?, U, ...\n",
              "Name: mail, dtype: object"
            ]
          },
          "execution_count": 14,
          "metadata": {},
          "output_type": "execute_result"
        }
      ],
      "source": [
        "# getting unigrams\n",
        "unigrams = df.mail.apply(lambda x: get_ngrams(x,1))\n",
        "unigrams.head(10)"
      ]
    },
    {
      "cell_type": "code",
      "execution_count": null,
      "metadata": {
        "colab": {
          "background_save": true
        },
        "id": "0ItZ2creI1l7",
        "outputId": "4835ac5b-eb55-4e88-87d3-59a9a963a6a2"
      },
      "outputs": [
        {
          "data": {
            "text/plain": [
              "[('to', 2146),\n",
              " ('you', 1636),\n",
              " ('I', 1469),\n",
              " ('a', 1331),\n",
              " ('the', 1214),\n",
              " ('and', 893),\n",
              " ('in', 800),\n",
              " ('is', 784),\n",
              " ('i', 742),\n",
              " ('u', 682)]"
            ]
          },
          "execution_count": 15,
          "metadata": {},
          "output_type": "execute_result"
        }
      ],
      "source": [
        "# checking most repeated words from all the mails\n",
        "lst = []\n",
        "for i in unigrams:\n",
        "    lst.extend(i)\n",
        "Counter(lst).most_common(10)"
      ]
    },
    {
      "cell_type": "code",
      "execution_count": null,
      "metadata": {
        "colab": {
          "background_save": true
        },
        "id": "CH0_iaK8I1l8",
        "outputId": "7114060d-6a99-403e-8b48-407ef9fa5b69"
      },
      "outputs": [
        {
          "data": {
            "text/plain": [
              "[(\"I'll call later\", 39),\n",
              " (\"Sorry, I'll call\", 38),\n",
              " ('. . .', 26),\n",
              " ('I want to', 24),\n",
              " ('have won a', 23),\n",
              " ('prize GUARANTEED. Call', 19),\n",
              " ('I miss you', 19),\n",
              " ('å£1000 cash or', 17),\n",
              " ('are trying to', 16),\n",
              " ('Account Statement for', 16)]"
            ]
          },
          "execution_count": 16,
          "metadata": {},
          "output_type": "execute_result"
        }
      ],
      "source": [
        "# cheking most repeted 10 trigrams\n",
        "trigram = df.mail.apply(lambda x: get_ngrams(x,3))\n",
        "lst1 = []\n",
        "for i in trigram:\n",
        "    lst1.extend(i)\n",
        "Counter(lst1).most_common(10)"
      ]
    },
    {
      "cell_type": "markdown",
      "metadata": {
        "id": "HSsjvtCvI1l_"
      },
      "source": [
        "### Plotting Word Cloud"
      ]
    },
    {
      "cell_type": "code",
      "execution_count": null,
      "metadata": {
        "colab": {
          "background_save": true
        },
        "id": "ksCp5l99I1l_"
      },
      "outputs": [],
      "source": [
        "def get_wordcloud(data,column):\n",
        "    df_ = data[column].str.cat(sep = \" \")\n",
        "    text = \" \".join([i for i in df_.split()])\n",
        "    wcloud = WordCloud(width = 700, height = 500, background_color = \"lightgreen\").generate(text)\n",
        "    plt.figure(figsize = (10,6))\n",
        "    plt.imshow(wcloud)\n",
        "    plt.axis(\"off\")\n",
        "    plt.title(\"Word Cloud\")\n",
        "    plt.show()"
      ]
    },
    {
      "cell_type": "code",
      "execution_count": null,
      "metadata": {
        "colab": {
          "background_save": true
        },
        "id": "WpvHwIBsI1mB",
        "outputId": "932158a1-3de8-4150-a042-f144b03a7397"
      },
      "outputs": [
        {
          "data": {
            "image/png": "[encoded data removed]",
            "text/plain": [
              "<Figure size 720x432 with 1 Axes>"
            ]
          },
          "metadata": {},
          "output_type": "display_data"
        }
      ],
      "source": [
        "#plotting word cloud\n",
        "get_wordcloud(df,\"mail\")"
      ]
    },
    {
      "cell_type": "markdown",
      "metadata": {
        "id": "N9Qi-9PKI1mC"
      },
      "source": [
        "### Keyphrase Extrection"
      ]
    },
    {
      "cell_type": "code",
      "execution_count": null,
      "metadata": {
        "colab": {
          "background_save": true
        },
        "id": "paNvVRQlI1mD"
      },
      "outputs": [],
      "source": [
        "# Defining the function to extract keywords\n",
        "def get_keypharses(data):\n",
        "    key_ex = yake.KeywordExtractor()\n",
        "    keyword = key_ex.extract_keywords(data) # give (kewword, score) in a tuple\n",
        "    kw_lst = []\n",
        "    for i in keyword:\n",
        "        kw_lst.append(i[0]) # taking only keyword\n",
        "    return kw_lst"
      ]
    },
    {
      "cell_type": "code",
      "execution_count": null,
      "metadata": {
        "colab": {
          "background_save": true
        },
        "id": "onJUtyXTI1mF",
        "outputId": "a9222ce6-a24e-4bfb-df58-786fe8e0237e"
      },
      "outputs": [
        {
          "data": {
            "text/plain": [
              "0    [crazy., jurong point, point, jurong, buffet, ...\n",
              "1       [lar, Joking wif, wif u oni, Joking, oni, wif]\n",
              "2    [Cup final tkts, win FA Cup, Cup final, final ...\n",
              "3                         [early hor, hor, dun, early]\n",
              "4                                    [Nah, usf, lives]\n",
              "5    [FreeMsg Hey, Hey there darling, word back, He...\n",
              "6    [aids patent, brother, speak, patent, treat, a...\n",
              "7    [Oru Minnaminunginte Nurungu, Minnaminunginte ...\n",
              "8    [WINNER, prize reward, claim, Valid, prize, re...\n",
              "9    [Update, Mobile Update, months, Free, mobile, ...\n",
              "Name: mail, dtype: object"
            ]
          },
          "execution_count": 20,
          "metadata": {},
          "output_type": "execute_result"
        }
      ],
      "source": [
        "kw = df.mail.apply(get_keypharses)\n",
        "kw.head(10)"
      ]
    },
    {
      "cell_type": "code",
      "execution_count": null,
      "metadata": {
        "colab": {
          "background_save": true
        },
        "id": "-UJI0vI7I1mH",
        "outputId": "40cac5dd-e15d-43d1-d7d1-3679c92dc88a"
      },
      "outputs": [
        {
          "data": {
            "text/plain": [
              "[('selected to receive', 13),\n",
              " ('attempt to contact', 13),\n",
              " ('pick the phone', 12),\n",
              " ('send a message', 12),\n",
              " ('customer service representative', 10),\n",
              " ('WON a guaranteed', 10),\n",
              " ('call our customer', 10),\n",
              " ('draw txt MUSIC', 9),\n",
              " ('chance to win', 9),\n",
              " ('anytime any network', 9)]"
            ]
          },
          "execution_count": 21,
          "metadata": {},
          "output_type": "execute_result"
        }
      ],
      "source": [
        "# cheking most common keywords\n",
        "lstk = []\n",
        "for i in kw:\n",
        "    lstk.extend(i)\n",
        "Counter([i for i in lstk if len(i.split()) > 2]).most_common(10)"
      ]
    },
    {
      "cell_type": "markdown",
      "metadata": {
        "id": "O4096gfsI1mI"
      },
      "source": [
        "# Preprocessing "
      ]
    },
    {
      "cell_type": "code",
      "execution_count": null,
      "metadata": {
        "colab": {
          "background_save": true
        },
        "id": "q_1OsidgI1mJ",
        "outputId": "7ac83c30-1b1d-4b21-f037-691a34406711"
      },
      "outputs": [
        {
          "name": "stderr",
          "output_type": "stream",
          "text": [
            "[nltk_data] Downloading package stopwords to /root/nltk_data...\n",
            "[nltk_data]   Unzipping corpora/stopwords.zip.\n"
          ]
        }
      ],
      "source": [
        "# Cleaning the data\n",
        "import nltk\n",
        "nltk.download('stopwords')\n",
        "\n",
        "def remove_spaces(data):\n",
        "    clean_text = data.replace(\"\\\\n\",\" \").replace(\"\\t\",\" \").replace(\"\\\\\",\" \")\n",
        "    return clean_text\n",
        "\n",
        "# defining the function for expanding text (can't to can not)\n",
        "def expand_text(data):\n",
        "    ex_text = contractions.fix(data)\n",
        "    return ex_text\n",
        "\n",
        "# defining the function for handling accented characters (Á to A)\n",
        "def handling_accented(data):\n",
        "    fix_text = unidecode(data)\n",
        "    return fix_text\n",
        "\n",
        "# defining the function for removing stopwords\n",
        "stopword = stopwords.words(\"english\") # gives a list of stopwords\n",
        "stopword.remove(\"no\") # removing neccessary stop words from list\n",
        "stopword.remove(\"not\")\n",
        "stopword.remove(\"nor\")\n",
        "\n",
        "def clean_text(data):\n",
        "    token = word_tokenize(data)\n",
        "    clean_text = [i.lower() for i in token if (i not in punctuation) \n",
        "                  and (i.lower() not in stopword) and (i.isalpha()) and (len(i) > 2)]\n",
        "    return clean_text\n",
        "\n",
        "# defining the function for auto correction \n",
        "\n",
        "\n",
        "def auto_correct(data):\n",
        "    spell = Speller(lang = \"en\")\n",
        "    text = spell(data)\n",
        "    return text\n",
        "\n",
        "# defining the function for getting root words\n",
        "def lemmatization(data):\n",
        "    lem = WordNetLemmatizer()\n",
        "    lst1 = []\n",
        "    for i in data:\n",
        "        lem_words = lem.lemmatize(i)\n",
        "        lst1.append(lem_words)\n",
        "    return \" \".join(lst1)"
      ]
    },
    {
      "cell_type": "code",
      "execution_count": null,
      "metadata": {
        "colab": {
          "background_save": true
        },
        "id": "tQsEBxQFI1mL",
        "outputId": "1243c4d2-08bc-4205-c9db-23b3778eeb6e"
      },
      "outputs": [
        {
          "name": "stderr",
          "output_type": "stream",
          "text": [
            "[nltk_data] Downloading package punkt to /root/nltk_data...\n",
            "[nltk_data]   Unzipping tokenizers/punkt.zip.\n",
            "[nltk_data] Downloading package wordnet to /root/nltk_data...\n",
            "[nltk_data] Downloading package omw-1.4 to /root/nltk_data...\n"
          ]
        }
      ],
      "source": [
        "import nltk\n",
        "nltk.download('punkt')\n",
        "nltk.download('wordnet')\n",
        "nltk.download('omw-1.4')\n",
        "\n",
        "df[\"clean_mails\"] = df[\"mail\"].apply(remove_spaces)\n",
        "df[\"clean_mails\"] = df[\"clean_mails\"].apply(expand_text)\n",
        "df[\"clean_mails\"] = df[\"clean_mails\"].apply(handling_accented)\n",
        "df[\"clean_mails\"] = df[\"clean_mails\"].apply(clean_text)\n",
        "df[\"clean_mails\"] = df[\"clean_mails\"].apply(lambda x: auto_correct(x) if isinstance(x, str) or isinstance(x, bytes) else x)\n",
        "df[\"clean_mails\"] = df[\"clean_mails\"].apply(lemmatization)"
      ]
    },
    {
      "cell_type": "code",
      "execution_count": null,
      "metadata": {
        "colab": {
          "background_save": true
        },
        "id": "k9FaXxRLI1mM",
        "outputId": "a7111b6e-68a7-4c53-c9f3-15e46f43b3b6"
      },
      "outputs": [
        {
          "data": {
            "text/html": [
              "\n",
              "  <div id=\"df-30c50b0e-eaf5-440d-93ac-12d56d974865\">\n",
              "    <div class=\"colab-df-container\">\n",
              "      <div>\n",
              "<style scoped>\n",
              "    .dataframe tbody tr th:only-of-type {\n",
              "        vertical-align: middle;\n",
              "    }\n",
              "\n",
              "    .dataframe tbody tr th {\n",
              "        vertical-align: top;\n",
              "    }\n",
              "\n",
              "    .dataframe thead th {\n",
              "        text-align: right;\n",
              "    }\n",
              "</style>\n",
              "<table border=\"1\" class=\"dataframe\">\n",
              "  <thead>\n",
              "    <tr style=\"text-align: right;\">\n",
              "      <th></th>\n",
              "      <th>target</th>\n",
              "      <th>clean_mails</th>\n",
              "    </tr>\n",
              "  </thead>\n",
              "  <tbody>\n",
              "    <tr>\n",
              "      <th>0</th>\n",
              "      <td>ham</td>\n",
              "      <td>jurong point crazy available bugis great world...</td>\n",
              "    </tr>\n",
              "    <tr>\n",
              "      <th>1</th>\n",
              "      <td>ham</td>\n",
              "      <td>lar joking wif oni</td>\n",
              "    </tr>\n",
              "  </tbody>\n",
              "</table>\n",
              "</div>\n",
              "      <button class=\"colab-df-convert\" onclick=\"convertToInteractive('df-30c50b0e-eaf5-440d-93ac-12d56d974865')\"\n",
              "              title=\"Convert this dataframe to an interactive table.\"\n",
              "              style=\"display:none;\">\n",
              "        \n",
              "  <svg xmlns=\"http://www.w3.org/2000/svg\" height=\"24px\"viewBox=\"0 0 24 24\"\n",
              "       width=\"24px\">\n",
              "    <path d=\"M0 0h24v24H0V0z\" fill=\"none\"/>\n",
              "    <path d=\"M18.56 5.44l.94 2.06.94-2.06 2.06-.94-2.06-.94-.94-2.06-.94 2.06-2.06.94zm-11 1L8.5 8.5l.94-2.06 2.06-.94-2.06-.94L8.5 2.5l-.94 2.06-2.06.94zm10 10l.94 2.06.94-2.06 2.06-.94-2.06-.94-.94-2.06-.94 2.06-2.06.94z\"/><path d=\"M17.41 7.96l-1.37-1.37c-.4-.4-.92-.59-1.43-.59-.52 0-1.04.2-1.43.59L10.3 9.45l-7.72 7.72c-.78.78-.78 2.05 0 2.83L4 21.41c.39.39.9.59 1.41.59.51 0 1.02-.2 1.41-.59l7.78-7.78 2.81-2.81c.8-.78.8-2.07 0-2.86zM5.41 20L4 18.59l7.72-7.72 1.47 1.35L5.41 20z\"/>\n",
              "  </svg>\n",
              "      </button>\n",
              "      \n",
              "  <style>\n",
              "    .colab-df-container {\n",
              "      display:flex;\n",
              "      flex-wrap:wrap;\n",
              "      gap: 12px;\n",
              "    }\n",
              "\n",
              "    .colab-df-convert {\n",
              "      background-color: #E8F0FE;\n",
              "      border: none;\n",
              "      border-radius: 50%;\n",
              "      cursor: pointer;\n",
              "      display: none;\n",
              "      fill: #1967D2;\n",
              "      height: 32px;\n",
              "      padding: 0 0 0 0;\n",
              "      width: 32px;\n",
              "    }\n",
              "\n",
              "    .colab-df-convert:hover {\n",
              "      background-color: #E2EBFA;\n",
              "      box-shadow: 0px 1px 2px rgba(60, 64, 67, 0.3), 0px 1px 3px 1px rgba(60, 64, 67, 0.15);\n",
              "      fill: #174EA6;\n",
              "    }\n",
              "\n",
              "    [theme=dark] .colab-df-convert {\n",
              "      background-color: #3B4455;\n",
              "      fill: #D2E3FC;\n",
              "    }\n",
              "\n",
              "    [theme=dark] .colab-df-convert:hover {\n",
              "      background-color: #434B5C;\n",
              "      box-shadow: 0px 1px 3px 1px rgba(0, 0, 0, 0.15);\n",
              "      filter: drop-shadow(0px 1px 2px rgba(0, 0, 0, 0.3));\n",
              "      fill: #FFFFFF;\n",
              "    }\n",
              "  </style>\n",
              "\n",
              "      <script>\n",
              "        const buttonEl =\n",
              "          document.querySelector('#df-30c50b0e-eaf5-440d-93ac-12d56d974865 button.colab-df-convert');\n",
              "        buttonEl.style.display =\n",
              "          google.colab.kernel.accessAllowed ? 'block' : 'none';\n",
              "\n",
              "        async function convertToInteractive(key) {\n",
              "          const element = document.querySelector('#df-30c50b0e-eaf5-440d-93ac-12d56d974865');\n",
              "          const dataTable =\n",
              "            await google.colab.kernel.invokeFunction('convertToInteractive',\n",
              "                                                     [key], {});\n",
              "          if (!dataTable) return;\n",
              "\n",
              "          const docLinkHtml = 'Like what you see? Visit the ' +\n",
              "            '<a target=\"_blank\" href=https://colab.research.google.com/notebooks/data_table.ipynb>data table notebook</a>'\n",
              "            + ' to learn more about interactive tables.';\n",
              "          element.innerHTML = '';\n",
              "          dataTable['output_type'] = 'display_data';\n",
              "          await google.colab.output.renderOutput(dataTable, element);\n",
              "          const docLink = document.createElement('div');\n",
              "          docLink.innerHTML = docLinkHtml;\n",
              "          element.appendChild(docLink);\n",
              "        }\n",
              "      </script>\n",
              "    </div>\n",
              "  </div>\n",
              "  "
            ],
            "text/plain": [
              "  target                                        clean_mails\n",
              "0    ham  jurong point crazy available bugis great world...\n",
              "1    ham                                 lar joking wif oni"
            ]
          },
          "execution_count": 24,
          "metadata": {},
          "output_type": "execute_result"
        }
      ],
      "source": [
        "# Now we have final mails so we will drop the mail feature\n",
        "df.drop(\"mail\",axis = 1, inplace = True)\n",
        "df.head(2)"
      ]
    },
    {
      "cell_type": "code",
      "execution_count": null,
      "metadata": {
        "colab": {
          "background_save": true
        },
        "id": "1fTAthH1I1mM"
      },
      "outputs": [],
      "source": [
        "# encoding the target feature\n",
        "df.target.replace({\"spam\": 0, \"ham\": 1}, inplace=True)"
      ]
    },
    {
      "cell_type": "markdown",
      "metadata": {
        "id": "DLf6AQKfI1mO"
      },
      "source": [
        "### Making Vactors"
      ]
    },
    {
      "cell_type": "code",
      "execution_count": null,
      "metadata": {
        "colab": {
          "background_save": true
        },
        "id": "hwAbx2TcI1mP"
      },
      "outputs": [],
      "source": [
        "# spliting the data to avoid data leakage\n",
        "x = df[\"clean_mails\"]\n",
        "y = df[\"target\"]\n",
        "x_tr,x_te,y_tr,y_te = train_test_split(x,y,test_size=0.25,random_state=42,stratify=y)"
      ]
    },
    {
      "cell_type": "code",
      "execution_count": null,
      "metadata": {
        "colab": {
          "background_save": true
        },
        "id": "rQi2zrNyI1mR"
      },
      "outputs": [],
      "source": [
        "# Creating the vectors of the mails\n",
        "cnv = CountVectorizer(max_df=0.95,max_features=1000,min_df = 10, stop_words=\"english\",lowercase=True)\n",
        "x_train = cnv.fit_transform(x_tr).A\n",
        "x_test  = cnv.transform(x_te).A"
      ]
    },
    {
      "cell_type": "markdown",
      "metadata": {
        "id": "sj9YCUFfI1mS"
      },
      "source": [
        "### Balancing The Data"
      ]
    },
    {
      "cell_type": "code",
      "execution_count": null,
      "metadata": {
        "colab": {
          "background_save": true
        },
        "id": "Z4nD_pGAI1mS"
      },
      "outputs": [],
      "source": [
        "# I am using SMOTE to avoid data duplicacy\n",
        "st = SMOTE(sampling_strategy=0.75,random_state=42)\n",
        "sm_x_train,sm_y_train = st.fit_resample(x_train,y_tr)\n",
        "sm_x_test,sm_y_test   = st.fit_resample(x_test,y_te)"
      ]
    },
    {
      "cell_type": "code",
      "execution_count": null,
      "metadata": {
        "colab": {
          "background_save": true
        },
        "id": "9LA2Uo3UI1mT",
        "outputId": "0f8141c3-bf5b-4927-d03a-421ccf1cecf2"
      },
      "outputs": [
        {
          "name": "stdout",
          "output_type": "stream",
          "text": [
            "first we have\n",
            "1    3619\n",
            "0     560\n",
            "Name: target, dtype: int64\n",
            "After balancing we have\n",
            "1    3619\n",
            "0    2714\n",
            "Name: target, dtype: int64\n"
          ]
        }
      ],
      "source": [
        "print(f\"first we have\\n{y_tr.value_counts()}\\nAfter balancing we have\\n{sm_y_train.value_counts()}\")"
      ]
    },
    {
      "cell_type": "markdown",
      "metadata": {
        "id": "tuqpH_rCI1mU"
      },
      "source": [
        "# Model Selection & Training"
      ]
    },
    {
      "cell_type": "code",
      "execution_count": null,
      "metadata": {
        "colab": {
          "background_save": true
        },
        "id": "nGblTlE1I1mU",
        "outputId": "5d1fa9c4-3a01-4d88-d4dd-82cb88398c3f"
      },
      "outputs": [
        {
          "name": "stdout",
          "output_type": "stream",
          "text": [
            "The accuracy of the Multinomial Naive Bayes model:\n",
            "At Training:  0.8885204484446549\n",
            "At Testing:  0.819431279620853\n",
            "++++++++++++++++++++++++++++++++++++++++++++++++++\n",
            "The accuracy of the Gaussian Naive Bayes model:\n",
            "At Training:  0.8128848886783515\n",
            "At Testing:  0.7838862559241706\n",
            "++++++++++++++++++++++++++++++++++++++++++++++++++\n",
            "The accuracy of the XG Boost model:\n",
            "At Training:  0.8965735038686247\n",
            "At Testing:  0.8028436018957346\n",
            "++++++++++++++++++++++++++++++++++++++++++++++++++\n"
          ]
        }
      ],
      "source": [
        "# selecting the model\n",
        "models = [(\"Multinomial Naive Bayes\", MultinomialNB()),\n",
        "          (\"Gaussian Naive Bayes\", GaussianNB()),\n",
        "          (\"XG Boost\", XGBClassifier())]\n",
        "for name,model in models:\n",
        "    mod = model\n",
        "    mod.fit(sm_x_train,sm_y_train)\n",
        "    pred = mod.predict(sm_x_train)\n",
        "    acc = accuracy_score(sm_y_train,pred)\n",
        "    pred1 = mod.predict(sm_x_test)\n",
        "    acc1 = accuracy_score(sm_y_test,pred1)\n",
        "    print(f\"The accuracy of the {name} model:\\nAt Training: \",acc)\n",
        "    print(\"At Testing: \",acc1)\n",
        "    print(\"+\"*50)"
      ]
    },
    {
      "cell_type": "markdown",
      "metadata": {
        "id": "SrujjbDII1mY"
      },
      "source": [
        "### Tuning & Training the model"
      ]
    },
    {
      "cell_type": "code",
      "execution_count": null,
      "metadata": {
        "colab": {
          "background_save": true
        },
        "id": "eM4IBZ85I1mZ",
        "outputId": "b07fb3dd-04ed-4f68-dd89-fda7788a36f0"
      },
      "outputs": [
        {
          "name": "stdout",
          "output_type": "stream",
          "text": [
            "Fitting 3 folds for each of 10 candidates, totalling 30 fits\n",
            "[CV 1/3] END alpha=1000, fit_prior=True;, score=(train=0.737, test=0.793) total time=   0.0s\n",
            "[CV 2/3] END alpha=1000, fit_prior=True;, score=(train=0.790, test=0.748) total time=   0.0s\n",
            "[CV 3/3] END alpha=1000, fit_prior=True;, score=(train=0.786, test=0.760) total time=   0.0s\n",
            "[CV 1/3] END alpha=0.1, fit_prior=False;, score=(train=0.928, test=0.896) total time=   0.0s\n",
            "[CV 2/3] END alpha=0.1, fit_prior=False;, score=(train=0.922, test=0.923) total time=   0.0s\n",
            "[CV 3/3] END alpha=0.1, fit_prior=False;, score=(train=0.922, test=0.922) total time=   0.0s\n",
            "[CV 1/3] END alpha=0.1, fit_prior=True;, score=(train=0.874, test=0.906) total time=   0.0s\n",
            "[CV 2/3] END alpha=0.1, fit_prior=True;, score=(train=0.900, test=0.870) total time=   0.0s\n",
            "[CV 3/3] END alpha=0.1, fit_prior=True;, score=(train=0.900, test=0.870) total time=   0.0s\n",
            "[CV 1/3] END alpha=100, fit_prior=True;, score=(train=0.850, test=0.906) total time=   0.0s\n",
            "[CV 2/3] END alpha=100, fit_prior=True;, score=(train=0.881, test=0.849) total time=   0.0s\n",
            "[CV 3/3] END alpha=100, fit_prior=True;, score=(train=0.881, test=0.851) total time=   0.0s\n",
            "[CV 1/3] END alpha=10, fit_prior=True;, score=(train=0.861, test=0.910) total time=   0.0s\n",
            "[CV 2/3] END alpha=10, fit_prior=True;, score=(train=0.894, test=0.860) total time=   0.0s\n",
            "[CV 3/3] END alpha=10, fit_prior=True;, score=(train=0.888, test=0.860) total time=   0.0s\n",
            "[CV 1/3] END alpha=1e-05, fit_prior=True;, score=(train=0.874, test=0.895) total time=   0.0s\n",
            "[CV 2/3] END alpha=1e-05, fit_prior=True;, score=(train=0.900, test=0.869) total time=   0.0s\n",
            "[CV 3/3] END alpha=1e-05, fit_prior=True;, score=(train=0.901, test=0.870) total time=   0.0s\n",
            "[CV 1/3] END alpha=1, fit_prior=True;, score=(train=0.872, test=0.913) total time=   0.0s\n",
            "[CV 2/3] END alpha=1, fit_prior=True;, score=(train=0.899, test=0.871) total time=   0.0s\n",
            "[CV 3/3] END alpha=1, fit_prior=True;, score=(train=0.896, test=0.866) total time=   0.0s\n",
            "[CV 1/3] END alpha=0.0001, fit_prior=False;, score=(train=0.928, test=0.887) total time=   0.0s\n",
            "[CV 2/3] END alpha=0.0001, fit_prior=False;, score=(train=0.923, test=0.924) total time=   0.0s\n",
            "[CV 3/3] END alpha=0.0001, fit_prior=False;, score=(train=0.923, test=0.922) total time=   0.0s\n",
            "[CV 1/3] END alpha=1e-05, fit_prior=False;, score=(train=0.928, test=0.886) total time=   0.0s\n",
            "[CV 2/3] END alpha=1e-05, fit_prior=False;, score=(train=0.923, test=0.924) total time=   0.0s\n",
            "[CV 3/3] END alpha=1e-05, fit_prior=False;, score=(train=0.923, test=0.922) total time=   0.0s\n",
            "[CV 1/3] END alpha=10, fit_prior=False;, score=(train=0.911, test=0.897) total time=   0.0s\n",
            "[CV 2/3] END alpha=10, fit_prior=False;, score=(train=0.912, test=0.912) total time=   0.0s\n",
            "[CV 3/3] END alpha=10, fit_prior=False;, score=(train=0.909, test=0.909) total time=   0.0s\n"
          ]
        },
        {
          "data": {
            "text/plain": [
              "{'fit_prior': False, 'alpha': 0.1}"
            ]
          },
          "execution_count": 31,
          "metadata": {},
          "output_type": "execute_result"
        }
      ],
      "source": [
        "from sklearn.model_selection import RandomizedSearchCV\n",
        "estimator = MultinomialNB()\n",
        "params_NB = {'alpha': [0.00001, 0.0001, 0.001, 0.1, 1, 10, 100,1000],\n",
        "            \"fit_prior\":[True,False]} \n",
        "rnd = RandomizedSearchCV(estimator=estimator, param_distributions=params_NB,\n",
        "                         cv= 3, verbose=3, scoring='accuracy',return_train_score=True) \n",
        "rnd.fit(sm_x_train,sm_y_train)\n",
        "rnd.best_params_\n",
        "#increase the CV to 7 when training on a high powered gpu else it will take high time"
      ]
    },
    {
      "cell_type": "code",
      "execution_count": null,
      "metadata": {
        "colab": {
          "background_save": true
        },
        "id": "6_2yhGCDI1ma",
        "outputId": "74f243be-ab56-44cb-d7d3-152ce75a9029"
      },
      "outputs": [
        {
          "data": {
            "text/html": [
              "<style>#sk-container-id-1 {color: black;background-color: white;}#sk-container-id-1 pre{padding: 0;}#sk-container-id-1 div.sk-toggleable {background-color: white;}#sk-container-id-1 label.sk-toggleable__label {cursor: pointer;display: block;width: 100%;margin-bottom: 0;padding: 0.3em;box-sizing: border-box;text-align: center;}#sk-container-id-1 label.sk-toggleable__label-arrow:before {content: \"▸\";float: left;margin-right: 0.25em;color: #696969;}#sk-container-id-1 label.sk-toggleable__label-arrow:hover:before {color: black;}#sk-container-id-1 div.sk-estimator:hover label.sk-toggleable__label-arrow:before {color: black;}#sk-container-id-1 div.sk-toggleable__content {max-height: 0;max-width: 0;overflow: hidden;text-align: left;background-color: #f0f8ff;}#sk-container-id-1 div.sk-toggleable__content pre {margin: 0.2em;color: black;border-radius: 0.25em;background-color: #f0f8ff;}#sk-container-id-1 input.sk-toggleable__control:checked~div.sk-toggleable__content {max-height: 200px;max-width: 100%;overflow: auto;}#sk-container-id-1 input.sk-toggleable__control:checked~label.sk-toggleable__label-arrow:before {content: \"▾\";}#sk-container-id-1 div.sk-estimator input.sk-toggleable__control:checked~label.sk-toggleable__label {background-color: #d4ebff;}#sk-container-id-1 div.sk-label input.sk-toggleable__control:checked~label.sk-toggleable__label {background-color: #d4ebff;}#sk-container-id-1 input.sk-hidden--visually {border: 0;clip: rect(1px 1px 1px 1px);clip: rect(1px, 1px, 1px, 1px);height: 1px;margin: -1px;overflow: hidden;padding: 0;position: absolute;width: 1px;}#sk-container-id-1 div.sk-estimator {font-family: monospace;background-color: #f0f8ff;border: 1px dotted black;border-radius: 0.25em;box-sizing: border-box;margin-bottom: 0.5em;}#sk-container-id-1 div.sk-estimator:hover {background-color: #d4ebff;}#sk-container-id-1 div.sk-parallel-item::after {content: \"\";width: 100%;border-bottom: 1px solid gray;flex-grow: 1;}#sk-container-id-1 div.sk-label:hover label.sk-toggleable__label {background-color: #d4ebff;}#sk-container-id-1 div.sk-serial::before {content: \"\";position: absolute;border-left: 1px solid gray;box-sizing: border-box;top: 0;bottom: 0;left: 50%;z-index: 0;}#sk-container-id-1 div.sk-serial {display: flex;flex-direction: column;align-items: center;background-color: white;padding-right: 0.2em;padding-left: 0.2em;position: relative;}#sk-container-id-1 div.sk-item {position: relative;z-index: 1;}#sk-container-id-1 div.sk-parallel {display: flex;align-items: stretch;justify-content: center;background-color: white;position: relative;}#sk-container-id-1 div.sk-item::before, #sk-container-id-1 div.sk-parallel-item::before {content: \"\";position: absolute;border-left: 1px solid gray;box-sizing: border-box;top: 0;bottom: 0;left: 50%;z-index: -1;}#sk-container-id-1 div.sk-parallel-item {display: flex;flex-direction: column;z-index: 1;position: relative;background-color: white;}#sk-container-id-1 div.sk-parallel-item:first-child::after {align-self: flex-end;width: 50%;}#sk-container-id-1 div.sk-parallel-item:last-child::after {align-self: flex-start;width: 50%;}#sk-container-id-1 div.sk-parallel-item:only-child::after {width: 0;}#sk-container-id-1 div.sk-dashed-wrapped {border: 1px dashed gray;margin: 0 0.4em 0.5em 0.4em;box-sizing: border-box;padding-bottom: 0.4em;background-color: white;}#sk-container-id-1 div.sk-label label {font-family: monospace;font-weight: bold;display: inline-block;line-height: 1.2em;}#sk-container-id-1 div.sk-label-container {text-align: center;}#sk-container-id-1 div.sk-container {/* jupyter's `normalize.less` sets `[hidden] { display: none; }` but bootstrap.min.css set `[hidden] { display: none !important; }` so we also need the `!important` here to be able to override the default hidden behavior on the sphinx rendered scikit-learn.org. See: https://github.com/scikit-learn/scikit-learn/issues/21755 */display: inline-block !important;position: relative;}#sk-container-id-1 div.sk-text-repr-fallback {display: none;}</style><div id=\"sk-container-id-1\" class=\"sk-top-container\"><div class=\"sk-text-repr-fallback\"><pre>MultinomialNB(alpha=1, fit_prior=False)</pre><b>In a Jupyter environment, please rerun this cell to show the HTML representation or trust the notebook. <br />On GitHub, the HTML representation is unable to render, please try loading this page with nbviewer.org.</b></div><div class=\"sk-container\" hidden><div class=\"sk-item\"><div class=\"sk-estimator sk-toggleable\"><input class=\"sk-toggleable__control sk-hidden--visually\" id=\"sk-estimator-id-1\" type=\"checkbox\" checked><label for=\"sk-estimator-id-1\" class=\"sk-toggleable__label sk-toggleable__label-arrow\">MultinomialNB</label><div class=\"sk-toggleable__content\"><pre>MultinomialNB(alpha=1, fit_prior=False)</pre></div></div></div></div></div>"
            ],
            "text/plain": [
              "MultinomialNB(alpha=1, fit_prior=False)"
            ]
          },
          "execution_count": 32,
          "metadata": {},
          "output_type": "execute_result"
        }
      ],
      "source": [
        "# training the model\n",
        "mlnb = MultinomialNB(fit_prior = False, alpha = 1)\n",
        "mlnb.fit(sm_x_train,sm_y_train)"
      ]
    },
    {
      "cell_type": "markdown",
      "metadata": {
        "id": "g6yXMzyWI1ma"
      },
      "source": [
        "### Model Evaluation"
      ]
    },
    {
      "cell_type": "code",
      "execution_count": null,
      "metadata": {
        "colab": {
          "background_save": true
        },
        "id": "10Vrk2GTI1mb",
        "outputId": "9b9d2093-d9f2-4d73-f816-b7913da54d32"
      },
      "outputs": [
        {
          "name": "stdout",
          "output_type": "stream",
          "text": [
            "Training accuracy is:  0.9207326701405337\n",
            "\n",
            "\n",
            "The classifiaction report:\n",
            "               precision    recall  f1-score   support\n",
            "\n",
            "           0       0.86      0.97      0.91      2714\n",
            "           1       0.98      0.88      0.93      3619\n",
            "\n",
            "    accuracy                           0.92      6333\n",
            "   macro avg       0.92      0.93      0.92      6333\n",
            "weighted avg       0.93      0.92      0.92      6333\n",
            "\n"
          ]
        }
      ],
      "source": [
        "pred = mlnb.predict(sm_x_train)\n",
        "acc = accuracy_score(sm_y_train,pred)\n",
        "clf = classification_report(sm_y_train,pred)\n",
        "print(\"Training accuracy is: \",acc)\n",
        "print(\"\\n\")\n",
        "print(\"The classifiaction report:\\n\",clf)"
      ]
    },
    {
      "cell_type": "code",
      "execution_count": null,
      "metadata": {
        "colab": {
          "background_save": true
        },
        "id": "nED82XGBI1mc",
        "outputId": "6df4d097-9d40-4af6-bc93-8c57b057a031"
      },
      "outputs": [
        {
          "name": "stdout",
          "output_type": "stream",
          "text": [
            "Testing accuracy is:  0.9014218009478673\n",
            "\n",
            "\n",
            "The classifiaction report:\n",
            "               precision    recall  f1-score   support\n",
            "\n",
            "           0       0.84      0.94      0.89       904\n",
            "           1       0.95      0.87      0.91      1206\n",
            "\n",
            "    accuracy                           0.90      2110\n",
            "   macro avg       0.90      0.91      0.90      2110\n",
            "weighted avg       0.91      0.90      0.90      2110\n",
            "\n"
          ]
        }
      ],
      "source": [
        "pred1 = mlnb.predict(sm_x_test)\n",
        "acc1 = accuracy_score(sm_y_test,pred1)\n",
        "clf1 = classification_report(sm_y_test,pred1)\n",
        "print(\"Testing accuracy is: \",acc1)\n",
        "print(\"\\n\")\n",
        "print(\"The classifiaction report:\\n\",clf1)"
      ]
    },
    {
      "cell_type": "markdown",
      "metadata": {
        "id": "HLQgjSTpI1mc"
      },
      "source": [
        "**Now we can see after hyperparameter tuning, we have improved accuracy also has good f1 score. Also, trade-off between training and testing accuracy is perfect.**"
      ]
    },
    {
      "cell_type": "markdown",
      "metadata": {
        "id": "QgbW99GaI1md"
      },
      "source": [
        "# Model Testing"
      ]
    },
    {
      "cell_type": "code",
      "execution_count": null,
      "metadata": {
        "colab": {
          "background_save": true
        },
        "id": "TMW7ofc5I1md"
      },
      "outputs": [],
      "source": [
        "# testing the model whether it works for userinput.\n",
        "dics = {1: \"ham\" , 0:\"spam\" }\n",
        "#user input\n",
        "def model_test(texthere):\n",
        "  text = \"Nah I don't think he goes to usf, he lives around here though\"\n",
        "\n",
        "  # first we create a vector of this review\n",
        "  vector1 = cnv.transform([texthere]).A\n",
        "\n",
        "  # getting prediction\n",
        "  prediction = mlnb.predict(vector1)\n",
        "\n",
        "  # printing the results\n",
        "  print(\"The mail is:: \",dics[prediction[0]])"
      ]
    },
    {
      "cell_type": "code",
      "execution_count": null,
      "metadata": {
        "colab": {
          "background_save": true
        },
        "id": "tiVC0URXI1me",
        "outputId": "ae66cab3-a79c-4e8b-e07c-de52c536e254"
      },
      "outputs": [
        {
          "name": "stdout",
          "output_type": "stream",
          "text": [
            "The mail is::  spam\n",
            "The mail is::  ham\n"
          ]
        }
      ],
      "source": [
        "# testing the model by giving spam\n",
        "#user input\n",
        "texts = \"you have won 1 lack.\"\n",
        "texts1 = \"Office work  \"\n",
        "\n",
        "# first we create a vector of this review\n",
        "vector1 = cnv.transform([texts]).A\n",
        "vector2 = cnv.transform([texts1]).A\n",
        "\n",
        "# getting prediction\n",
        "prediction = mlnb.predict(vector1)\n",
        "prediction1 = mlnb.predict(vector2)\n",
        "\n",
        "# printing the results\n",
        "print(\"The mail is:: \" ,dics[prediction[0]])\n",
        "print(\"The mail is:: \" ,dics[prediction1[0]])"
      ]
    },
    {
      "cell_type": "markdown",
      "metadata": {
        "id": "snI_TvydI1m0"
      },
      "source": [
        "**Our model is correctly predicting whether the given mail is ham or spam.**"
      ]
    },
    {
      "cell_type": "markdown",
      "metadata": {
        "id": "PbMtKJIUI1m0"
      },
      "source": [
        "# Exporting the model for production"
      ]
    },
    {
      "cell_type": "code",
      "execution_count": null,
      "metadata": {
        "colab": {
          "background_save": true
        },
        "id": "HJhCLAHWI1m1"
      },
      "outputs": [],
      "source": [
        "# import pickle\n",
        "# with open(\"mlnb_model.pkl\",\"wb\") as f:\n",
        "#     pickle.dump(mlnb,f)\n",
        "# with open(\"countvectorizer.pkl\",\"wb\") as f:\n",
        "#     pickle.dump(cnv,f)"
      ]
    },
    {
      "cell_type": "markdown",
      "metadata": {
        "id": "T_1PpGGuI1m1"
      },
      "source": [
        "### Thank You (please upvote if you like the notebook)"
      ]
    }
  ],
  "metadata": {
    "colab": {
      "provenance": []
    },
    "kernelspec": {
      "display_name": "Python 3",
      "language": "python",
      "name": "python3"
    },
    "language_info": {
      "codemirror_mode": {
        "name": "ipython",
        "version": 3
      },
      "file_extension": ".py",
      "mimetype": "text/x-python",
      "name": "python",
      "nbconvert_exporter": "python",
      "pygments_lexer": "ipython3",
      "version": "3.6.4"
    }
  },
  "nbformat": 4,
  "nbformat_minor": 0
}